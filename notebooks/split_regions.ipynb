{
 "cells": [
  {
   "cell_type": "code",
   "execution_count": 1,
   "id": "639e8fa5-2a79-41e4-9afe-9001aaa00335",
   "metadata": {},
   "outputs": [],
   "source": [
    "import numpy as np\n",
    "import os\n",
    "from tqdm import tqdm"
   ]
  },
  {
   "cell_type": "code",
   "execution_count": 5,
   "id": "3ab0f378-cb14-4172-bb1c-569d2872c087",
   "metadata": {},
   "outputs": [],
   "source": [
    "DATA_PATH = \"/fs/nexus-scratch/khoi/cora/data/coco\"\n",
    "split = 'testall'\n",
    "region_feats = np.load(f'{DATA_PATH}/{split}_ims.npy')"
   ]
  },
  {
   "cell_type": "code",
   "execution_count": 6,
   "id": "cb9a39fd-ac18-4bfa-b2af-177544b4beaa",
   "metadata": {},
   "outputs": [],
   "source": [
    "OUTPUT_PATH = f'{DATA_PATH}/region_feats/{split}'\n",
    "os.makedirs(OUTPUT_PATH, exist_ok=True)"
   ]
  },
  {
   "cell_type": "code",
   "execution_count": 7,
   "id": "79d16aba-716e-4205-a8c9-eceefd53d63b",
   "metadata": {},
   "outputs": [
    {
     "name": "stderr",
     "output_type": "stream",
     "text": [
      "100%|█████████████████████████████████████████████████████████████████████████████████████████████████████████████████████████████████████████████████████████████████████████████████████████| 25000/25000 [03:29<00:00, 119.58it/s]\n"
     ]
    }
   ],
   "source": [
    "N = region_feats.shape[0]\n",
    "\n",
    "n_files_per_part = 5000\n",
    "\n",
    "for i in tqdm(range(N)):\n",
    "    part = i // n_files_per_part\n",
    "    os.makedirs(f'{OUTPUT_PATH}/part{part}', exist_ok=True)\n",
    "    np.save(f'{OUTPUT_PATH}/part{part}/{i}.npy', region_feats[i])"
   ]
  },
  {
   "cell_type": "code",
   "execution_count": null,
   "id": "08ac0bb8-f5a4-4f64-b97c-e0a3f528013a",
   "metadata": {},
   "outputs": [],
   "source": []
  }
 ],
 "metadata": {
  "kernelspec": {
   "display_name": "Python 3 (ipykernel)",
   "language": "python",
   "name": "python3"
  },
  "language_info": {
   "codemirror_mode": {
    "name": "ipython",
    "version": 3
   },
   "file_extension": ".py",
   "mimetype": "text/x-python",
   "name": "python",
   "nbconvert_exporter": "python",
   "pygments_lexer": "ipython3",
   "version": "3.10.4"
  }
 },
 "nbformat": 4,
 "nbformat_minor": 5
}
